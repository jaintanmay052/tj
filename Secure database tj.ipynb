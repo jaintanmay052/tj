{
 "cells": [
  {
   "cell_type": "code",
   "execution_count": null,
   "id": "8e2fcb17",
   "metadata": {},
   "outputs": [],
   "source": [
    "# Secured database designed by TJ\n",
    "   \n",
    "import getpass\n",
    "def input_data():\n",
    "    user_id = getpass.getpass(\"Enter User Id: \")\n",
    "    password = getpass.getpass(\"Enter Passsword: \")\n",
    "    id = user_id.split(\" \")\n",
    "\n",
    "database = {\n",
    "    \"1001\": \"Tanmay Jain\",\n",
    "    \"1002\": \"Saurabh Jain\",\n",
    "    \"1003\": \"Aman Sharma\",\n",
    "    \"1004\": \"Rahul Bansal\",\n",
    "    \"1005\": \"Atul Bansal\"\n",
    "}\n",
    "\n",
    "output = \"\"\n",
    "\n",
    "if password == \"1234\":\n",
    "    for data in id:\n",
    "        output += database.get(data, \"!\") + \" \"\n",
    "    print(f'[ {output}] you are allowed to acces the resources')    \n",
    "else:\n",
    "    print(\"\"\"\n",
    "    Access Denied\n",
    "    \"\"\")\n",
    "    print(\"Enter Correct Credential\")\n",
    "    \n",
    "    \n",
    "    \n"
   ]
  },
  {
   "cell_type": "code",
   "execution_count": null,
   "id": "db9c86f3",
   "metadata": {},
   "outputs": [],
   "source": [
    "def secured_database(id):\n",
    "    database = {\n",
    "        \"1001\": \"Tanmay Jain\",\n",
    "        \"1002\": \"Saurabh Jain\",\n",
    "        \"1003\": \"Aman Sharma\",\n",
    "        \"1004\": \"Rahul Bansal\",\n",
    "        \"1005\": \"Atul Bansal\"\n",
    "    }\n",
    "\n",
    "    output = \"\"\n",
    "\n",
    "    if password == \"1234\":\n",
    "        for data in id:\n",
    "            output += database.get(data, \"!\") + \" \"\n",
    "        print(f'[ {output}] you are allowed to acces the resources')    \n",
    "    else:\n",
    "        print(\"\"\"\n",
    "        Access Denied\n",
    "        \"\"\")\n",
    "        print(\"Enter Correct Credential\")\n"
   ]
  },
  {
   "cell_type": "code",
   "execution_count": null,
   "id": "116d8841",
   "metadata": {},
   "outputs": [],
   "source": []
  },
  {
   "cell_type": "code",
   "execution_count": null,
   "id": "8c9b1d55",
   "metadata": {},
   "outputs": [],
   "source": []
  }
 ],
 "metadata": {
  "kernelspec": {
   "display_name": "Python 3",
   "language": "python",
   "name": "python3"
  },
  "language_info": {
   "codemirror_mode": {
    "name": "ipython",
    "version": 3
   },
   "file_extension": ".py",
   "mimetype": "text/x-python",
   "name": "python",
   "nbconvert_exporter": "python",
   "pygments_lexer": "ipython3",
   "version": "3.8.8"
  }
 },
 "nbformat": 4,
 "nbformat_minor": 5
}
